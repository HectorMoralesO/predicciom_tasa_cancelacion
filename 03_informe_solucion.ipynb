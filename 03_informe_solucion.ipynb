{
 "cells": [
  {
   "cell_type": "markdown",
   "metadata": {},
   "source": [
    "# Informe de Solución"
   ]
  },
  {
   "cell_type": "markdown",
   "metadata": {},
   "source": [
    "1. ¿Qué pasos del plan se realizaron y qué pasos se omitieron (explica por qué)?  "
   ]
  },
  {
   "cell_type": "markdown",
   "metadata": {},
   "source": [
    "Se realizaron todos los pasos del plan original, desde la carga de datos hasta la evaluación de los modelos. La única excepción fue que no se implementaron técnicas adicionales de balanceo de clases como la técnica de remuestreo SMOTE, debido a la efectividad de esta técnica."
   ]
  },
  {
   "cell_type": "markdown",
   "metadata": {},
   "source": [
    "2. ¿Qué dificultades encontraste y cómo lograste resolverlas?"
   ]
  },
  {
   "cell_type": "markdown",
   "metadata": {},
   "source": [
    "Una de las dificultades fue el manejo del desbalance de clases, la cual se solucionó mediante la técnica de sobremuestreo, y a partir del nuevo conjunto se se seleccionaron las características más relevantes para el modelo, utilizando técnicas de selección de características como Chi-squared para variables categóricas y Lasso para variables numéricas.  "
   ]
  },
  {
   "cell_type": "markdown",
   "metadata": {},
   "source": [
    "3. ¿Cuáles fueron algunos de los pasos clave para resolver la tarea?"
   ]
  },
  {
   "cell_type": "markdown",
   "metadata": {},
   "source": [
    "- __Preprocesamiento de datos__: La limpieza y transformación de los datos fueron fundamentales para garantizar la calidad de la información utilizada para entrenar los modelos.\n",
    "\n",
    "- __Análisis exploratorio de datos__: El EDA permitió identificar patrones y relaciones importantes entre las variables, además fue una base para la selección de características y la elección de los modelos.\n",
    "\n",
    "- __Equilibrio de clases__: El sobremuestreo fue crucial para mejorar el rendimiento del modelo al abordar el desbalance de clases para la selección de variables.\n",
    "\n",
    "- __Selección y evaluación de modelos__: La comparación de diferentes modelos (Regresión Logística, Random Forest, LightGBM) permitió seleccionar el modelo más adecuado para el problema y utilizando diversas métricas y visualizaciones fue fundamental para garantizar la calidad del análisis. "
   ]
  },
  {
   "cell_type": "markdown",
   "metadata": {},
   "source": [
    "4. ¿Cuál es tu modelo final y qué nivel de calidad tiene?"
   ]
  },
  {
   "cell_type": "markdown",
   "metadata": {},
   "source": [
    "El modelo final seleccionado es la Regresión Logística. A pesar de que el modelo LightGBM obtuvo un rendimiento mejor en el conjunto de entrenamiento, se optó por la Regresión Logística debido a su menor riesgo de sobreajuste y a su interpretabilidad. El modelo de Regresión Logística obtuvo un AUC-ROC de 0.95 en el conjunto de prueba, lo cual indica un excelente rendimiento en la predicción de la cancelación del servicio."
   ]
  }
 ],
 "metadata": {
  "ExecuteTimeLog": [
   {
    "duration": 11,
    "start_time": "2024-09-03T01:31:40.747Z"
   }
  ],
  "kernelspec": {
   "display_name": "Python 3 (ipykernel)",
   "language": "python",
   "name": "python3"
  },
  "language_info": {
   "codemirror_mode": {
    "name": "ipython",
    "version": 3
   },
   "file_extension": ".py",
   "mimetype": "text/x-python",
   "name": "python",
   "nbconvert_exporter": "python",
   "pygments_lexer": "ipython3",
   "version": "3.9.7"
  },
  "toc": {
   "base_numbering": 1,
   "nav_menu": {},
   "number_sections": true,
   "sideBar": true,
   "skip_h1_title": true,
   "title_cell": "Table of Contents",
   "title_sidebar": "Contents",
   "toc_cell": false,
   "toc_position": {},
   "toc_section_display": true,
   "toc_window_display": false
  }
 },
 "nbformat": 4,
 "nbformat_minor": 4
}
